{
 "cells": [
  {
   "cell_type": "code",
   "execution_count": 3,
   "metadata": {},
   "outputs": [
    {
     "ename": "ImportError",
     "evalue": "cannot import name 'ft2font' from 'matplotlib' (C:\\Users\\12027\\AppData\\Roaming\\Python\\Python37\\site-packages\\matplotlib\\__init__.py)",
     "output_type": "error",
     "traceback": [
      "\u001b[1;31m---------------------------------------------------------------------------\u001b[0m",
      "\u001b[1;31mImportError\u001b[0m                               Traceback (most recent call last)",
      "\u001b[1;32m<ipython-input-3-e0e1492b7973>\u001b[0m in \u001b[0;36m<module>\u001b[1;34m\u001b[0m\n\u001b[0;32m      1\u001b[0m \u001b[1;32mimport\u001b[0m \u001b[0mnumpy\u001b[0m \u001b[1;32mas\u001b[0m \u001b[0mnp\u001b[0m\u001b[1;33m\u001b[0m\u001b[1;33m\u001b[0m\u001b[0m\n\u001b[1;32m----> 2\u001b[1;33m \u001b[1;32mimport\u001b[0m \u001b[0mmatplotlib\u001b[0m\u001b[1;33m.\u001b[0m\u001b[0mpyplot\u001b[0m \u001b[1;32mas\u001b[0m \u001b[0mplt\u001b[0m\u001b[1;33m\u001b[0m\u001b[1;33m\u001b[0m\u001b[0m\n\u001b[0m",
      "\u001b[1;32m~\\AppData\\Roaming\\Python\\Python37\\site-packages\\matplotlib\\__init__.py\u001b[0m in \u001b[0;36m<module>\u001b[1;34m\u001b[0m\n\u001b[0;32m    203\u001b[0m \u001b[1;33m\u001b[0m\u001b[0m\n\u001b[0;32m    204\u001b[0m \u001b[1;33m\u001b[0m\u001b[0m\n\u001b[1;32m--> 205\u001b[1;33m \u001b[0m_check_versions\u001b[0m\u001b[1;33m(\u001b[0m\u001b[1;33m)\u001b[0m\u001b[1;33m\u001b[0m\u001b[1;33m\u001b[0m\u001b[0m\n\u001b[0m\u001b[0;32m    206\u001b[0m \u001b[1;33m\u001b[0m\u001b[0m\n\u001b[0;32m    207\u001b[0m \u001b[1;33m\u001b[0m\u001b[0m\n",
      "\u001b[1;32m~\\AppData\\Roaming\\Python\\Python37\\site-packages\\matplotlib\\__init__.py\u001b[0m in \u001b[0;36m_check_versions\u001b[1;34m()\u001b[0m\n\u001b[0;32m    188\u001b[0m     \u001b[1;31m# Quickfix to ensure Microsoft Visual C++ redistributable\u001b[0m\u001b[1;33m\u001b[0m\u001b[1;33m\u001b[0m\u001b[1;33m\u001b[0m\u001b[0m\n\u001b[0;32m    189\u001b[0m     \u001b[1;31m# DLLs are loaded before importing kiwisolver\u001b[0m\u001b[1;33m\u001b[0m\u001b[1;33m\u001b[0m\u001b[1;33m\u001b[0m\u001b[0m\n\u001b[1;32m--> 190\u001b[1;33m     \u001b[1;32mfrom\u001b[0m \u001b[1;33m.\u001b[0m \u001b[1;32mimport\u001b[0m \u001b[0mft2font\u001b[0m\u001b[1;33m\u001b[0m\u001b[1;33m\u001b[0m\u001b[0m\n\u001b[0m\u001b[0;32m    191\u001b[0m \u001b[1;33m\u001b[0m\u001b[0m\n\u001b[0;32m    192\u001b[0m     for modname, minver in [\n",
      "\u001b[1;31mImportError\u001b[0m: cannot import name 'ft2font' from 'matplotlib' (C:\\Users\\12027\\AppData\\Roaming\\Python\\Python37\\site-packages\\matplotlib\\__init__.py)"
     ]
    }
   ],
   "source": [
    "import numpy as np\n",
    "import matplotlib.pyplot as plt"
   ]
  },
  {
   "cell_type": "code",
   "execution_count": 2,
   "metadata": {},
   "outputs": [
    {
     "ename": "ImportError",
     "evalue": "cannot import name 'ft2font' from 'matplotlib' (C:\\Users\\12027\\AppData\\Roaming\\Python\\Python37\\site-packages\\matplotlib\\__init__.py)",
     "output_type": "error",
     "traceback": [
      "\u001b[1;31m---------------------------------------------------------------------------\u001b[0m",
      "\u001b[1;31mImportError\u001b[0m                               Traceback (most recent call last)",
      "\u001b[1;32m<ipython-input-2-c2a3fad7108a>\u001b[0m in \u001b[0;36m<module>\u001b[1;34m\u001b[0m\n\u001b[0;32m      1\u001b[0m \u001b[1;32mimport\u001b[0m \u001b[0mnumpy\u001b[0m \u001b[1;32mas\u001b[0m \u001b[0mnp\u001b[0m\u001b[1;33m\u001b[0m\u001b[1;33m\u001b[0m\u001b[0m\n\u001b[1;32m----> 2\u001b[1;33m \u001b[1;32mimport\u001b[0m \u001b[0mmatplotlib\u001b[0m\u001b[1;33m.\u001b[0m\u001b[0mpyplot\u001b[0m \u001b[1;32mas\u001b[0m \u001b[0mplt\u001b[0m\u001b[1;33m\u001b[0m\u001b[1;33m\u001b[0m\u001b[0m\n\u001b[0m\u001b[0;32m      3\u001b[0m \u001b[1;33m\u001b[0m\u001b[0m\n\u001b[0;32m      4\u001b[0m \u001b[1;31m#################### Reading Sensory Data from the Given Text File############\u001b[0m\u001b[1;33m\u001b[0m\u001b[1;33m\u001b[0m\u001b[1;33m\u001b[0m\u001b[0m\n\u001b[0;32m      5\u001b[0m \u001b[0msensor_readings\u001b[0m \u001b[1;33m=\u001b[0m \u001b[1;33m[\u001b[0m\u001b[1;33m]\u001b[0m\u001b[1;33m\u001b[0m\u001b[1;33m\u001b[0m\u001b[0m\n",
      "\u001b[1;32m~\\AppData\\Roaming\\Python\\Python37\\site-packages\\matplotlib\\__init__.py\u001b[0m in \u001b[0;36m<module>\u001b[1;34m\u001b[0m\n\u001b[0;32m    203\u001b[0m \u001b[1;33m\u001b[0m\u001b[0m\n\u001b[0;32m    204\u001b[0m \u001b[1;33m\u001b[0m\u001b[0m\n\u001b[1;32m--> 205\u001b[1;33m \u001b[0m_check_versions\u001b[0m\u001b[1;33m(\u001b[0m\u001b[1;33m)\u001b[0m\u001b[1;33m\u001b[0m\u001b[1;33m\u001b[0m\u001b[0m\n\u001b[0m\u001b[0;32m    206\u001b[0m \u001b[1;33m\u001b[0m\u001b[0m\n\u001b[0;32m    207\u001b[0m \u001b[1;33m\u001b[0m\u001b[0m\n",
      "\u001b[1;32m~\\AppData\\Roaming\\Python\\Python37\\site-packages\\matplotlib\\__init__.py\u001b[0m in \u001b[0;36m_check_versions\u001b[1;34m()\u001b[0m\n\u001b[0;32m    188\u001b[0m     \u001b[1;31m# Quickfix to ensure Microsoft Visual C++ redistributable\u001b[0m\u001b[1;33m\u001b[0m\u001b[1;33m\u001b[0m\u001b[1;33m\u001b[0m\u001b[0m\n\u001b[0;32m    189\u001b[0m     \u001b[1;31m# DLLs are loaded before importing kiwisolver\u001b[0m\u001b[1;33m\u001b[0m\u001b[1;33m\u001b[0m\u001b[1;33m\u001b[0m\u001b[0m\n\u001b[1;32m--> 190\u001b[1;33m     \u001b[1;32mfrom\u001b[0m \u001b[1;33m.\u001b[0m \u001b[1;32mimport\u001b[0m \u001b[0mft2font\u001b[0m\u001b[1;33m\u001b[0m\u001b[1;33m\u001b[0m\u001b[0m\n\u001b[0m\u001b[0;32m    191\u001b[0m \u001b[1;33m\u001b[0m\u001b[0m\n\u001b[0;32m    192\u001b[0m     for modname, minver in [\n",
      "\u001b[1;31mImportError\u001b[0m: cannot import name 'ft2font' from 'matplotlib' (C:\\Users\\12027\\AppData\\Roaming\\Python\\Python37\\site-packages\\matplotlib\\__init__.py)"
     ]
    }
   ],
   "source": [
    "#################### Reading Sensory Data from the Given Text File############\n",
    "sensor_readings = []\n",
    "Open_Data=open('imudata.txt')\n",
    "for line in Open_Data:\n",
    "    # print(line)\n",
    "    line=line.rstrip()\n",
    "    line=line.split()\n",
    "    sensor_readings.append(int(line[4]))\n",
    "    # print(sensor_readings)\n",
    "\n",
    "# print(sensor_readings)\n",
    "sens_arr = np.asarray(sensor_readings)\n",
    "# print(sens_arr)"
   ]
  },
  {
   "cell_type": "code",
   "execution_count": null,
   "metadata": {},
   "outputs": [],
   "source": [
    "# ###################### Plotting the data#############\n",
    "plt.subplot(331)\n",
    "x=np.arange(0,371,1)\n",
    "plt.plot(x,sens_arr,label='Pitch Angle (Degrees)')\n",
    "plt.xlabel('Range of Sensory Data')\n",
    "plt.ylabel('Accelerometer Data (Degrees)')\n",
    "plt.title('Raw Data Corresponding to the Pitch Angle')\n",
    "plt.legend()"
   ]
  },
  {
   "cell_type": "code",
   "execution_count": null,
   "metadata": {},
   "outputs": [],
   "source": [
    "# ############## Moving Point Averages #############\n",
    "\n",
    "def mov_avg(array,window_size):\n",
    "    es=[]\n",
    "    size=window_size-1\n",
    "    for i in range(len(array)-size):\n",
    "        data=array[i:i+window_size]\n",
    "        avg_mean=np.mean(data)\n",
    "        es.append(avg_mean)\n",
    "    return es, i"
   ]
  },
  {
   "cell_type": "code",
   "execution_count": 1,
   "metadata": {},
   "outputs": [
    {
     "ename": "ImportError",
     "evalue": "cannot import name 'ft2font' from 'matplotlib' (C:\\Users\\12027\\AppData\\Roaming\\Python\\Python37\\site-packages\\matplotlib\\__init__.py)",
     "output_type": "error",
     "traceback": [
      "\u001b[1;31m---------------------------------------------------------------------------\u001b[0m",
      "\u001b[1;31mImportError\u001b[0m                               Traceback (most recent call last)",
      "\u001b[1;32m<ipython-input-1-1aeb43dbef4b>\u001b[0m in \u001b[0;36m<module>\u001b[1;34m\u001b[0m\n\u001b[0;32m      1\u001b[0m \u001b[1;32mimport\u001b[0m \u001b[0mnumpy\u001b[0m \u001b[1;32mas\u001b[0m \u001b[0mnp\u001b[0m\u001b[1;33m\u001b[0m\u001b[1;33m\u001b[0m\u001b[0m\n\u001b[1;32m----> 2\u001b[1;33m \u001b[1;32mimport\u001b[0m \u001b[0mmatplotlib\u001b[0m\u001b[1;33m.\u001b[0m\u001b[0mpyplot\u001b[0m \u001b[1;32mas\u001b[0m \u001b[0mplt\u001b[0m\u001b[1;33m\u001b[0m\u001b[1;33m\u001b[0m\u001b[0m\n\u001b[0m\u001b[0;32m      3\u001b[0m \u001b[1;33m\u001b[0m\u001b[0m\n\u001b[0;32m      4\u001b[0m \u001b[1;31m#################### Reading Sensory Data from the Given Text File############\u001b[0m\u001b[1;33m\u001b[0m\u001b[1;33m\u001b[0m\u001b[1;33m\u001b[0m\u001b[0m\n\u001b[0;32m      5\u001b[0m \u001b[0msensor_readings\u001b[0m \u001b[1;33m=\u001b[0m \u001b[1;33m[\u001b[0m\u001b[1;33m]\u001b[0m\u001b[1;33m\u001b[0m\u001b[1;33m\u001b[0m\u001b[0m\n",
      "\u001b[1;32m~\\AppData\\Roaming\\Python\\Python37\\site-packages\\matplotlib\\__init__.py\u001b[0m in \u001b[0;36m<module>\u001b[1;34m\u001b[0m\n\u001b[0;32m    203\u001b[0m \u001b[1;33m\u001b[0m\u001b[0m\n\u001b[0;32m    204\u001b[0m \u001b[1;33m\u001b[0m\u001b[0m\n\u001b[1;32m--> 205\u001b[1;33m \u001b[0m_check_versions\u001b[0m\u001b[1;33m(\u001b[0m\u001b[1;33m)\u001b[0m\u001b[1;33m\u001b[0m\u001b[1;33m\u001b[0m\u001b[0m\n\u001b[0m\u001b[0;32m    206\u001b[0m \u001b[1;33m\u001b[0m\u001b[0m\n\u001b[0;32m    207\u001b[0m \u001b[1;33m\u001b[0m\u001b[0m\n",
      "\u001b[1;32m~\\AppData\\Roaming\\Python\\Python37\\site-packages\\matplotlib\\__init__.py\u001b[0m in \u001b[0;36m_check_versions\u001b[1;34m()\u001b[0m\n\u001b[0;32m    188\u001b[0m     \u001b[1;31m# Quickfix to ensure Microsoft Visual C++ redistributable\u001b[0m\u001b[1;33m\u001b[0m\u001b[1;33m\u001b[0m\u001b[1;33m\u001b[0m\u001b[0m\n\u001b[0;32m    189\u001b[0m     \u001b[1;31m# DLLs are loaded before importing kiwisolver\u001b[0m\u001b[1;33m\u001b[0m\u001b[1;33m\u001b[0m\u001b[1;33m\u001b[0m\u001b[0m\n\u001b[1;32m--> 190\u001b[1;33m     \u001b[1;32mfrom\u001b[0m \u001b[1;33m.\u001b[0m \u001b[1;32mimport\u001b[0m \u001b[0mft2font\u001b[0m\u001b[1;33m\u001b[0m\u001b[1;33m\u001b[0m\u001b[0m\n\u001b[0m\u001b[0;32m    191\u001b[0m \u001b[1;33m\u001b[0m\u001b[0m\n\u001b[0;32m    192\u001b[0m     for modname, minver in [\n",
      "\u001b[1;31mImportError\u001b[0m: cannot import name 'ft2font' from 'matplotlib' (C:\\Users\\12027\\AppData\\Roaming\\Python\\Python37\\site-packages\\matplotlib\\__init__.py)"
     ]
    }
   ],
   "source": [
    "plt.subplot(332)\n",
    "x=np.arange(0,371,1)\n",
    "plt.plot(x,sens_arr,label='Pitch Angle (Degrees)')\n",
    "plt.xlabel('Range of Sensory Data')\n",
    "plt.ylabel('Accelerometer Data (Degrees)')\n",
    "# plt.title('Raw Data Corresponding to the Pitch Angle')\n",
    "ps1, i1 = mov_avg(sens_arr,2)\n",
    "# print(len(ps1))\n",
    "# # txt_2 = 'Mean: {0:.4f} \\n SD: {1:.4f}'.format(np.mean(ps1), np.std(ps1))\n",
    "# # plt.annotate(txt_2,xy=(0.05,0.05))\n",
    "x1 = np.arange(0, i1 + 1, 1)\n",
    "plt.plot(x1, ps1,label='2pt Moving Average Data')\n",
    "plt.legend()\n",
    "\n",
    "plt.subplot(333)\n",
    "x=np.arange(0,371,1)\n",
    "plt.plot(x,sens_arr,label='Pitch Angle (Degrees)')\n",
    "plt.xlabel('Range of Sensory Data')\n",
    "plt.ylabel('Accelerometer Data (Degrees)')\n",
    "# plt.title('Raw Data Corresponding to the Pitch Angle')\n",
    "ps2, i2 = mov_avg(sens_arr,4)\n",
    "# print(len(ps2))\n",
    "# # txt_2 = 'Mean: {0:.4f} \\n SD: {1:.4f}'.format(np.mean(ps2), np.std(ps2))\n",
    "# # plt.annotate(txt_2,xy=(0.05,0.05))\n",
    "x2=np.arange(0,i2+1,1)\n",
    "plt.plot(x2,ps2,label='4pt Moving Average Data')\n",
    "plt.legend()\n",
    "\n",
    "plt.subplot(334)\n",
    "x=np.arange(0,371,1)\n",
    "plt.plot(x,sens_arr,label='Pitch Angle (Degrees)')\n",
    "plt.xlabel('Range of Sensory Data')\n",
    "plt.ylabel('Accelerometer Data (Degrees)')\n",
    "# plt.title('Raw Data Corresponding to the Pitch Angle')\n",
    "ps3, i3 = mov_avg(sens_arr,8)\n",
    "# print(len(ps3))\n",
    "# # txt_2 = 'Mean: {0:.4f} \\n SD: {1:.4f}'.format(np.mean(ps3), np.std(ps3))\n",
    "# # plt.annotate(txt_2,xy=(0.05,0.05))\n",
    "x3=np.arange(0,i3+1,1)\n",
    "plt.plot(x3,ps3,label='8pt Moving Average Data')\n",
    "plt.legend()\n",
    "\n",
    "plt.subplot(335)\n",
    "x=np.arange(0,371,1)\n",
    "plt.plot(x,sens_arr,label='Pitch Angle (Degrees)')\n",
    "plt.xlabel('Range of Sensory Data')\n",
    "plt.ylabel('Accelerometer Data (Degrees)')\n",
    "# plt.title('Raw Data Corresponding to the Pitch Angle')\n",
    "ps4, i4 = mov_avg(sens_arr,16)\n",
    "print(len(ps4))\n",
    "# txt_2 = 'Mean: {0:.4f} \\n SD: {1:.4f}'.format(np.mean(ps4), np.std(ps4))\n",
    "# plt.annotate(txt_2,xy=(0.05,0.05))\n",
    "x4=np.arange(0,i4+1 ,1)\n",
    "plt.plot(x4,ps4,label='16pt Moving Average Data')\n",
    "plt.legend()\n",
    "\n",
    "\n",
    "plt.subplot(336)\n",
    "x=np.arange(0,371,1)\n",
    "plt.plot(x,sens_arr,label='Pitch Angle (Degrees)')\n",
    "plt.xlabel('Range of Sensory Data')\n",
    "plt.ylabel('Accelerometer Data (Degrees)')\n",
    "# plt.title('Raw Data Corresponding to the Pitch Angle')\n",
    "ps5, i5 = mov_avg(sens_arr,64)\n",
    "# print(len(ps5))\n",
    "# # txt_2 = 'Mean: {0:.4f} \\n SD: {1:.4f}'.format(np.mean(ps5), np.std(ps5))\n",
    "# # plt.annotate(txt_2,xy=(0.05,0.05))\n",
    "x5=np.arange(0,i5+1,1)\n",
    "plt.plot(x5,ps5,label='64pt Moving Average Data')\n",
    "plt.legend()\n",
    "\n",
    "plt.subplot(337)\n",
    "x=np.arange(0,371,1)\n",
    "plt.plot(x,sens_arr,label='Pitch Angle (Degrees)')\n",
    "plt.xlabel('Range of Sensory Data')\n",
    "plt.ylabel('Accelerometer Data (Degrees)')\n",
    "# plt.title('Raw Data Corresponding to the Pitch Angle')\n",
    "ps6, i6 = mov_avg(sens_arr,128)\n",
    "# print(len(ps6))\n",
    "# # txt_2 = 'Mean: {0:.4f} \\n SD: {1:.4f}'.format(np.mean(ps6), np.std(ps6))\n",
    "# # plt.annotate(txt_2,xy=(0.05,0.05))\n",
    "x6=np.arange(0,i6+1,1)\n",
    "plt.plot(x6,ps6,label='128pt Moving Average Data')\n",
    "plt.legend()"
   ]
  }
 ],
 "metadata": {
  "kernelspec": {
   "display_name": "Python 3",
   "language": "python",
   "name": "python3"
  },
  "language_info": {
   "codemirror_mode": {
    "name": "ipython",
    "version": 3
   },
   "file_extension": ".py",
   "mimetype": "text/x-python",
   "name": "python",
   "nbconvert_exporter": "python",
   "pygments_lexer": "ipython3",
   "version": "3.7.4"
  }
 },
 "nbformat": 4,
 "nbformat_minor": 2
}
